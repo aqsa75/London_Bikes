{
 "cells": [
  {
   "cell_type": "markdown",
   "id": "d210ecde-7a1d-4e97-ab25-3ca4c24a6d46",
   "metadata": {},
   "source": [
    "## Part 0\n",
    "\n",
    "### Lab 01 - Elementary Python Tasks"
   ]
  },
  {
   "cell_type": "markdown",
   "id": "69691967-b718-472d-a4f0-c87d59c4a4d6",
   "metadata": {},
   "source": [
    "Count the number of rows in the csv file you've chosen."
   ]
  },
  {
   "cell_type": "code",
   "execution_count": 41,
   "id": "a6eecf3d-73b7-4dad-a302-f881aeea2d1d",
   "metadata": {},
   "outputs": [
    {
     "name": "stdout",
     "output_type": "stream",
     "text": [
      "There are  4904 rows in this dataset.\n"
     ]
    }
   ],
   "source": [
    "import csv     # imports the csv module\n",
    "import sys  \n",
    "f = open('/Users/aqsa/Desktop/TB_burden_countries_2014-09-29.csv') # opens the csv file\n",
    "rowCount = 0 # declare a variable to keep the row count value\n",
    "for row in csv.reader(f):\n",
    "    rowCount += 1\n",
    "print(\"There are \", rowCount , \"rows in this dataset.\")"
   ]
  },
  {
   "cell_type": "markdown",
   "id": "11f90a64-da5d-4a21-bdd0-9e13d10427c1",
   "metadata": {},
   "source": [
    "Pick one of the columns with numeric data and calculate the average value using a loop (not a library function such as avg(), we'll come to those soon). One candidate is the column with the name \"e_prev_num_lo\" which is \"Estimated prevalence of TB (all forms), low bound\" according to the dictionary here. "
   ]
  },
  {
   "cell_type": "code",
   "execution_count": 43,
   "id": "04fa76d6-7320-45a1-b1c9-0b0c6e4f5f1b",
   "metadata": {},
   "outputs": [
    {
     "name": "stdout",
     "output_type": "stream",
     "text": [
      "Column Average: 43661.05531071133\n"
     ]
    }
   ],
   "source": [
    "# A very crude way of getting averages along a column\n",
    "# but hang on, we'll be doing more efficient operations soon\n",
    "\n",
    "rowCount = 0 # declare a variable to keep the row count value\n",
    "totalValue = 0 # declare a variable to keep the column total\n",
    "\n",
    "f = open('/Users/aqsa/Desktop/TB_burden_countries_2014-09-29.csv') # opens the csv file\n",
    "\n",
    "l = next(f) # This comment skips the column headers since we don't want them in our averaging. We might do something with the header line if we wanted to.\n",
    "colHeaders = l.split(',') # we split the col names string since they are comma separated.\n",
    "\n",
    "# This is not really needed but makes it easier to find the column names\n",
    "# uncomment to run\n",
    "\n",
    "#for i, colName in enumerate(colHeaders):\n",
    "#    print (\"Column: \", i, \" is \",colName)\n",
    "\n",
    "\n",
    "# Let's compute the average for e_prev_num_lo which has a column id 11.\n",
    "# notice that although this is the 12th column, we'll get its values by referencing to the 11th.\n",
    "# computers count from 0 unlike us humans !!\n",
    "\n",
    "for row in csv.reader(f):\n",
    "\n",
    "    # We need to be careful here since we need to convert the csv data which are originally strings.\n",
    "    # Most of the time there are problems in the data, such as gaps, missing values, etc.\n",
    "    # If you look at the spreadsheet, you'll notice some empty cells.\n",
    "    # The try-except struct makes sure that those empty cells are skipped and our code don't crash.\n",
    "    try:\n",
    "        val = float(row[11])\n",
    "        totalValue += val\n",
    "        # Note here that we also moved the counter for rows inside the try/catch routine\n",
    "        # this is to ensure that we do not add the empty rows to the count\n",
    "        rowCount += 1\n",
    "    except ValueError:\n",
    "        pass\n",
    "    \n",
    "# Here we're checking to make sure that we are trying to divide by zero.\n",
    "if rowCount > 0:\n",
    "    columnAverage = totalValue / rowCount    \n",
    "    print(\"Column Average:\", columnAverage)"
   ]
  },
  {
   "cell_type": "markdown",
   "id": "3d2346d6-4b48-4c98-b73a-887c35d79074",
   "metadata": {},
   "source": [
    "Now, repeat step-2 above but this time find the averages for years 1990 and 2011. Have you observed any difference?"
   ]
  },
  {
   "cell_type": "code",
   "execution_count": 44,
   "id": "5ea1d923-22d0-453c-b50e-48e070895f82",
   "metadata": {},
   "outputs": [
    {
     "name": "stdout",
     "output_type": "stream",
     "text": [
      "Average for 1990: 44379.73417061612  with  211  data points.\n",
      "Average for 2011: 33320.0524537037  with  216  data points.\n"
     ]
    }
   ],
   "source": [
    "\n",
    "rowCount1990 = 0 # declare a variable to keep the row count value for the rows dated 1990\n",
    "total1990 = 0 # declare a variable to keep the total number of rows in 1990\n",
    "\n",
    "rowCount2011 = 0 # declare a variable to keep the row count value for the rows dated 2011\n",
    "total2011 = 0  # declare a variable to keep the total number of rows in 2011\n",
    "\n",
    "f = open('/Users/aqsa/Desktop/TB_burden_countries_2014-09-29.csv') # opens the csv file\n",
    "\n",
    "l = next(f) # This comment skips the column headers since we don't want them in our averaging. We might do something with the header line if we wanted to.\n",
    "colHeaders = l.split(',') # we split the col names string since they are comma separated.\n",
    "\n",
    "\n",
    "#  e_prev_num_lo is column id 11, year is column id 5\n",
    "\n",
    "for row in csv.reader(f):\n",
    "    \n",
    "    try:\n",
    "        year = int(row[5])        \n",
    "    except ValueError:\n",
    "        continue \n",
    "        # this makes sure that if there is no year (i.e., missing), we stop this iteration \n",
    "        #and move on the the next line, so the code below don't run in this case  \n",
    "    \n",
    "    try:\n",
    "        val = float(row[11])        \n",
    "    except ValueError:\n",
    "        continue\n",
    "    # Here we use an if clause to make sure that we are using the correct years.\n",
    "    if year == 1990:\n",
    "        total1990 += val\n",
    "        rowCount1990 += 1\n",
    "        \n",
    "    elif year == 2011:\n",
    "        total2011 += val\n",
    "        rowCount2011 += 1\n",
    "\n",
    "if rowCount1990 > 0:\n",
    "    columnAverage = total1990 / rowCount1990\n",
    "    print(\"Average for 1990:\", columnAverage, \" with \", rowCount1990, \" data points.\"  )\n",
    "\n",
    "if rowCount2011 > 0:\n",
    "    columnAverage = total2011 / rowCount2011\n",
    "    print(\"Average for 2011:\", columnAverage, \" with \", rowCount2011, \" data points.\"  )\n",
    "\n",
    "\n"
   ]
  },
  {
   "cell_type": "markdown",
   "id": "96b3289c-bdd9-4b23-892f-d8d944779194",
   "metadata": {},
   "source": [
    "## Part 1: Pandas basics"
   ]
  },
  {
   "cell_type": "code",
   "execution_count": 5,
   "id": "85c7bf70-d2a8-4a01-a00b-d1071863b318",
   "metadata": {},
   "outputs": [
    {
     "name": "stdout",
     "output_type": "stream",
     "text": [
      "Heisenberg\n"
     ]
    },
    {
     "data": {
      "text/plain": [
       "'Heisenberg'"
      ]
     },
     "execution_count": 5,
     "metadata": {},
     "output_type": "execute_result"
    }
   ],
   "source": [
    "import pandas as pd\n",
    "# create a Series with an arbitrary list\n",
    "s = pd.Series([7, 'Heisenberg', 3.14, -1789710578, 'Happy Eating!'])\n",
    "s\n",
    "# specify an index to use when creating the Series\n",
    "s = pd.Series([7, 'Heisenberg', 3.14, -1789710578, 'Happy Eating!'],\n",
    "              index=['A', 'Z', 'C', 'Y', 'E'])\n",
    "s\n",
    "print(s.iloc[1] )# Access using index location\n",
    "s['Z'] # Access using label"
   ]
  },
  {
   "cell_type": "markdown",
   "id": "ad859b26-9a56-41b6-8ce6-c45ec8415688",
   "metadata": {},
   "source": [
    "converting from dictionary to series - benefits include easier to compute larger datasets this way"
   ]
  },
  {
   "cell_type": "code",
   "execution_count": 6,
   "id": "c03ebe0d-06a1-438a-be7f-b5eb7a55d37e",
   "metadata": {},
   "outputs": [
    {
     "name": "stdout",
     "output_type": "stream",
     "text": [
      "Chicago          False\n",
      "New York         False\n",
      "Portland         False\n",
      "San Francisco    False\n",
      "Austin           False\n",
      "Boston            True\n",
      "dtype: bool\n"
     ]
    }
   ],
   "source": [
    "d = {'Chicago': 1000, 'New York': 1300, 'Portland': 900, 'San Francisco': 1100,\n",
    "     'Austin': 450, 'Boston': None}\n",
    "cities = pd.Series(d)\n",
    "cities\n",
    "print (cities.isnull())"
   ]
  },
  {
   "cell_type": "code",
   "execution_count": 10,
   "id": "2cb5a4fd-f495-411f-a86d-1a37a1fa66e2",
   "metadata": {
    "scrolled": true
   },
   "outputs": [
    {
     "name": "stdout",
     "output_type": "stream",
     "text": [
      "Access by index ver 1 0     5\n",
      "1     8\n",
      "2     6\n",
      "3     1\n",
      "4     5\n",
      "5    10\n",
      "6     6\n",
      "7    12\n",
      "Name: losses, dtype: int64\n",
      "Access by index ver 2 0     5\n",
      "1     8\n",
      "2     6\n",
      "3     1\n",
      "4     5\n",
      "5    10\n",
      "6     6\n",
      "7    12\n",
      "Name: losses, dtype: int64\n",
      "   year     team  wins  losses\n",
      "0  2010    Bears     7       5\n",
      "1  2011    Bears     7       8\n",
      "2  2012    Bears     7       6\n",
      "3  2011  Packers     7       1\n",
      "4  2012  Packers     7       5\n",
      "5  2010    Lions     7      10\n",
      "6  2011    Lions     7       6\n",
      "7  2012    Lions     7      12\n",
      "Minimum wins:  7\n",
      "              year  wins     losses\n",
      "count     8.000000   8.0   8.000000\n",
      "mean   2011.125000   7.0   6.625000\n",
      "std       0.834523   0.0   3.377975\n",
      "min    2010.000000   7.0   1.000000\n",
      "25%    2010.750000   7.0   5.000000\n",
      "50%    2011.000000   7.0   6.000000\n",
      "75%    2012.000000   7.0   8.500000\n",
      "max    2012.000000   7.0  12.000000\n",
      "year       int64\n",
      "team      object\n",
      "wins       int64\n",
      "losses     int64\n",
      "dtype: object\n"
     ]
    },
    {
     "data": {
      "image/png": "[encoded data removed]",
      "text/plain": [
       "<Figure size 640x480 with 1 Axes>"
      ]
     },
     "metadata": {},
     "output_type": "display_data"
    }
   ],
   "source": [
    "import matplotlib.pyplot as plt\n",
    "\n",
    "data = {'year': [2010, 2011, 2012, 2011, 2012, 2010, 2011, 2012],\n",
    "        'team': ['Bears', 'Bears', 'Bears', 'Packers', 'Packers', 'Lions', 'Lions', 'Lions'],\n",
    "        'wins': [11, 8, 10, 15, 11, 6, 10, 4],\n",
    "        'losses': [5, 8, 6, 1, 5, 10, 6, 12]}\n",
    "football = pd.DataFrame(data, columns=['year', 'team', 'wins', 'losses'])\n",
    "print (\"Access by index ver 1\", football['losses'])\n",
    "print (\"Access by index ver 2\", football.losses)\n",
    "\n",
    "\n",
    "\n",
    "#Now plot with pandas\n",
    "plt.scatter(football.losses, football.wins)\n",
    "\n",
    "# modify the data\n",
    "football['wins'] = 7\n",
    "print (football)\n",
    "\n",
    "# you can easily get basic information on your data\n",
    "print (\"Minimum wins: \", football['wins'].min()) # gets you the minimum of a column\n",
    "# for a quick look at summary statistics, the following is helpful\n",
    "print(football.describe())\n",
    "# wen you run this, notice that \"year\" column is not listed. This is due to data types which you can check by\n",
    "print(football.dtypes)"
   ]
  },
  {
   "cell_type": "markdown",
   "id": "4bf457bd-878c-48ac-a10e-91254c7ab12c",
   "metadata": {},
   "source": [
    "Slicing the Pandas DataFrame"
   ]
  },
  {
   "cell_type": "code",
   "execution_count": 11,
   "id": "ebb2dba0-3294-47e2-9ebb-81484510d5e0",
   "metadata": {},
   "outputs": [
    {
     "data": {
      "text/plain": [
       "2    2012\n",
       "3    2011\n",
       "4    2012\n",
       "Name: year, dtype: int64"
      ]
     },
     "execution_count": 11,
     "metadata": {},
     "output_type": "execute_result"
    }
   ],
   "source": [
    "football[2:5] # This will get you the rows from 3 to 5\n",
    "football[['year', 'wins']] # another way (not slicing) to get multiple columns\n",
    "football.iloc[[3, 1]] # or this\n",
    "football['year'][2:5] # This will get you the rows 3 to 5 but only for the year column\n"
   ]
  },
  {
   "cell_type": "code",
   "execution_count": 12,
   "id": "ca1352dc-b9c4-4951-8dcd-648e032c8b45",
   "metadata": {},
   "outputs": [
    {
     "data": {
      "text/html": [
       "<div>\n",
       "<style scoped>\n",
       "    .dataframe tbody tr th:only-of-type {\n",
       "        vertical-align: middle;\n",
       "    }\n",
       "\n",
       "    .dataframe tbody tr th {\n",
       "        vertical-align: top;\n",
       "    }\n",
       "\n",
       "    .dataframe thead th {\n",
       "        text-align: right;\n",
       "    }\n",
       "</style>\n",
       "<table border=\"1\" class=\"dataframe\">\n",
       "  <thead>\n",
       "    <tr style=\"text-align: right;\">\n",
       "      <th></th>\n",
       "      <th>year</th>\n",
       "      <th>team</th>\n",
       "      <th>wins</th>\n",
       "      <th>losses</th>\n",
       "    </tr>\n",
       "  </thead>\n",
       "  <tbody>\n",
       "    <tr>\n",
       "      <th>3</th>\n",
       "      <td>2011</td>\n",
       "      <td>Packers</td>\n",
       "      <td>7</td>\n",
       "      <td>1</td>\n",
       "    </tr>\n",
       "  </tbody>\n",
       "</table>\n",
       "</div>"
      ],
      "text/plain": [
       "   year     team  wins  losses\n",
       "3  2011  Packers     7       1"
      ]
     },
     "execution_count": 12,
     "metadata": {},
     "output_type": "execute_result"
    }
   ],
   "source": [
    "football[football.year > 2011] # gets you only the information 2012 and onwards\n",
    "# can build even more complex queries by combining using logical operators, | (OR), & (AND)\n",
    "football[(football.wins > 5) & (football.losses < 5)] # gets you those teams with less than 5 losses and more than 5 wins"
   ]
  },
  {
   "cell_type": "code",
   "execution_count": 18,
   "id": "29830384-550c-43ee-bbb1-eb81ea40cfad",
   "metadata": {},
   "outputs": [
    {
     "name": "stdout",
     "output_type": "stream",
     "text": [
      "   key left_value\n",
      "0    0          a\n",
      "1    1          b\n",
      "2    2          c\n",
      "3    3          d\n",
      "4    4          e\n",
      "   key right_value\n",
      "0    2           f\n",
      "1    3           g\n",
      "2    4           h\n",
      "3    5           i\n",
      "4    6           j\n",
      "--- An inner join:\n",
      "   key left_value right_value\n",
      "0    2          c           f\n",
      "1    3          d           g\n",
      "2    4          e           h\n"
     ]
    }
   ],
   "source": [
    "# now create two data frames\n",
    "\n",
    "left_frame = pd.DataFrame({'key': range(5), \n",
    "                           'left_value': ['a', 'b', 'c', 'd', 'e']})\n",
    "right_frame = pd.DataFrame({'key': range(2, 7), \n",
    "                           'right_value': ['f', 'g', 'h', 'i', 'j']})\n",
    "#check what is inside\n",
    "print (left_frame)\n",
    "print (right_frame)\n",
    "\n",
    "# now merge these data frames based on the 'key' field -- a common task when merging data sources\n",
    "print (\"--- An inner join:\")\n",
    "print (pd.merge(left_frame, right_frame, on='key'))\n",
    "# Now add a new element to the left_frame with a key value 2 and assign it to a new variable\n"
   ]
  },
  {
   "cell_type": "code",
   "execution_count": 17,
   "id": "9a9470c1-76bd-4684-9439-e7cc9ed843ff",
   "metadata": {},
   "outputs": [],
   "source": [
    "new_row = pd.DataFrame({'key': [2], 'left_value': ['nv']}) "
   ]
  },
  {
   "cell_type": "code",
   "execution_count": 19,
   "id": "a8656325-8807-4135-9235-176a8c4b77f9",
   "metadata": {},
   "outputs": [
    {
     "name": "stdout",
     "output_type": "stream",
     "text": [
      "   key left_value right_value\n",
      "0    2          c           f\n",
      "1    3          d           g\n",
      "2    4          e           h\n",
      "3    2         nv           f\n",
      "--- Now a left outer join:\n",
      "   key left_value right_value\n",
      "0    0          a         NaN\n",
      "1    1          b         NaN\n",
      "2    2          c           f\n",
      "3    3          d           g\n",
      "4    4          e           h\n"
     ]
    }
   ],
   "source": [
    "left_frame_new = pd.concat([left_frame, new_row], ignore_index=True)\n",
    "# and now try merging the new array\n",
    "print (pd.merge(left_frame_new, right_frame, on='key'))\n",
    "# different types of merging are possible\n",
    "print (\"--- Now a left outer join:\")\n",
    "print (pd.merge(left_frame, right_frame, on='key', how='left')) # notice the NAN values - reflect on why they exist"
   ]
  },
  {
   "cell_type": "markdown",
   "id": "85c690ab-c4c6-4979-ac79-f2dbc3676e23",
   "metadata": {},
   "source": [
    "### the NaN values probably occur from the type of join that we are doing. left joins take all the values on the lest even though there might not be a match on the right graph"
   ]
  },
  {
   "cell_type": "markdown",
   "id": "4514024e-b8cc-4d88-9747-c9f8c6b9e74f",
   "metadata": {},
   "source": [
    "# Exercises (DIY) - Part 1"
   ]
  },
  {
   "cell_type": "markdown",
   "id": "5f74c95d-8257-4831-999c-dc32655a00d8",
   "metadata": {},
   "source": [
    "Download the two files and load them into pandas data frames. Hint: have a look at this page and do not forget to parse your excel sheet into a data frame."
   ]
  },
  {
   "cell_type": "code",
   "execution_count": 31,
   "id": "c9551392-9d2f-4d07-b829-f5b8e298f478",
   "metadata": {},
   "outputs": [
    {
     "data": {
      "text/plain": [
       "Index(['PassengerId', 'Survived', 'Pclass', 'Name', 'Sex', 'Age',\n",
       "       'TicketType'],\n",
       "      dtype='object')"
      ]
     },
     "execution_count": 31,
     "metadata": {},
     "output_type": "execute_result"
    }
   ],
   "source": [
    "import pandas as pd\n",
    "\n",
    "data1 = pd.read_csv('/Users/aqsa/Desktop/passengerData.csv')\n",
    "data2 = pd.read_excel('/Users/aqsa/Desktop/ticketPrices.xlsx')\n",
    "data1.columns\n",
    "\n",
    "#passengers = pd.Dataframe(data1)"
   ]
  },
  {
   "cell_type": "code",
   "execution_count": 33,
   "id": "3f3040cb-735b-4ca9-b879-178f2bf0ca65",
   "metadata": {},
   "outputs": [
    {
     "data": {
      "text/plain": [
       "Index(['TicketType', 'Fare'], dtype='object')"
      ]
     },
     "execution_count": 33,
     "metadata": {},
     "output_type": "execute_result"
    }
   ],
   "source": [
    "data2.columns"
   ]
  },
  {
   "cell_type": "markdown",
   "id": "e976c8d0-0fb8-431c-a12c-5faca868f822",
   "metadata": {},
   "source": [
    "Merge the two files based on the column they share. (tickettype)"
   ]
  },
  {
   "cell_type": "code",
   "execution_count": 37,
   "id": "61fe007b-dcae-4c6c-b9c4-131da5ff67c5",
   "metadata": {},
   "outputs": [
    {
     "data": {
      "text/html": [
       "<div>\n",
       "<style scoped>\n",
       "    .dataframe tbody tr th:only-of-type {\n",
       "        vertical-align: middle;\n",
       "    }\n",
       "\n",
       "    .dataframe tbody tr th {\n",
       "        vertical-align: top;\n",
       "    }\n",
       "\n",
       "    .dataframe thead th {\n",
       "        text-align: right;\n",
       "    }\n",
       "</style>\n",
       "<table border=\"1\" class=\"dataframe\">\n",
       "  <thead>\n",
       "    <tr style=\"text-align: right;\">\n",
       "      <th></th>\n",
       "      <th>PassengerId</th>\n",
       "      <th>Survived</th>\n",
       "      <th>Pclass</th>\n",
       "      <th>Name</th>\n",
       "      <th>Sex</th>\n",
       "      <th>Age</th>\n",
       "      <th>TicketType</th>\n",
       "      <th>Fare</th>\n",
       "    </tr>\n",
       "  </thead>\n",
       "  <tbody>\n",
       "    <tr>\n",
       "      <th>0</th>\n",
       "      <td>1</td>\n",
       "      <td>0</td>\n",
       "      <td>3</td>\n",
       "      <td>Braund, Mr. Owen Harris</td>\n",
       "      <td>male</td>\n",
       "      <td>22.0</td>\n",
       "      <td>1</td>\n",
       "      <td>33</td>\n",
       "    </tr>\n",
       "    <tr>\n",
       "      <th>1</th>\n",
       "      <td>2</td>\n",
       "      <td>1</td>\n",
       "      <td>1</td>\n",
       "      <td>Cumings, Mrs. John Bradley (Florence Briggs Th...</td>\n",
       "      <td>female</td>\n",
       "      <td>38.0</td>\n",
       "      <td>2</td>\n",
       "      <td>56</td>\n",
       "    </tr>\n",
       "    <tr>\n",
       "      <th>2</th>\n",
       "      <td>3</td>\n",
       "      <td>1</td>\n",
       "      <td>3</td>\n",
       "      <td>Heikkinen, Miss. Laina</td>\n",
       "      <td>female</td>\n",
       "      <td>26.0</td>\n",
       "      <td>3</td>\n",
       "      <td>77</td>\n",
       "    </tr>\n",
       "    <tr>\n",
       "      <th>3</th>\n",
       "      <td>4</td>\n",
       "      <td>1</td>\n",
       "      <td>1</td>\n",
       "      <td>Futrelle, Mrs. Jacques Heath (Lily May Peel)</td>\n",
       "      <td>female</td>\n",
       "      <td>35.0</td>\n",
       "      <td>4</td>\n",
       "      <td>22</td>\n",
       "    </tr>\n",
       "    <tr>\n",
       "      <th>4</th>\n",
       "      <td>5</td>\n",
       "      <td>0</td>\n",
       "      <td>3</td>\n",
       "      <td>Allen, Mr. William Henry</td>\n",
       "      <td>male</td>\n",
       "      <td>35.0</td>\n",
       "      <td>5</td>\n",
       "      <td>14</td>\n",
       "    </tr>\n",
       "  </tbody>\n",
       "</table>\n",
       "</div>"
      ],
      "text/plain": [
       "   PassengerId  Survived  Pclass  \\\n",
       "0            1         0       3   \n",
       "1            2         1       1   \n",
       "2            3         1       3   \n",
       "3            4         1       1   \n",
       "4            5         0       3   \n",
       "\n",
       "                                                Name     Sex   Age  \\\n",
       "0                            Braund, Mr. Owen Harris    male  22.0   \n",
       "1  Cumings, Mrs. John Bradley (Florence Briggs Th...  female  38.0   \n",
       "2                             Heikkinen, Miss. Laina  female  26.0   \n",
       "3       Futrelle, Mrs. Jacques Heath (Lily May Peel)  female  35.0   \n",
       "4                           Allen, Mr. William Henry    male  35.0   \n",
       "\n",
       "   TicketType  Fare  \n",
       "0           1    33  \n",
       "1           2    56  \n",
       "2           3    77  \n",
       "3           4    22  \n",
       "4           5    14  "
      ]
     },
     "execution_count": 37,
     "metadata": {},
     "output_type": "execute_result"
    }
   ],
   "source": [
    "merged = pd.merge(data1, data2, on='TicketType')\n",
    "merged.head()"
   ]
  },
  {
   "cell_type": "markdown",
   "id": "42ec7982-5e82-443f-bfbf-ca264999068d",
   "metadata": {},
   "source": [
    "Display the name of the oldest passengers (hint: make use of variables to save some intermediate values)."
   ]
  },
  {
   "cell_type": "code",
   "execution_count": 58,
   "id": "eb1e6262-cba0-4bab-a792-978307ad2f77",
   "metadata": {},
   "outputs": [
    {
     "name": "stdout",
     "output_type": "stream",
     "text": [
      "630    Barkworth, Mr. Algernon Henry Wilson\n",
      "Name: Name, dtype: object\n"
     ]
    }
   ],
   "source": [
    "oldest_age = oldest_age = merged['Age'].max()\n",
    "name_of_oldest = merged[merged['Age'] == oldest_age]['Name']\n",
    "print(name_of_oldest)"
   ]
  },
  {
   "cell_type": "code",
   "execution_count": 59,
   "id": "38feef86-f70a-42c7-984c-648fa653f0d7",
   "metadata": {},
   "outputs": [
    {
     "name": "stdout",
     "output_type": "stream",
     "text": [
      "630        Barkworth, Mr. Algernon Henry Wilson\n",
      "851                         Svensson, Mr. Johan\n",
      "493                     Artagaveytia, Mr. Ramon\n",
      "96                    Goldschmidt, Mr. George B\n",
      "116                        Connors, Mr. Patrick\n",
      "                         ...                   \n",
      "859                            Razi, Mr. Raihed\n",
      "863           Sage, Miss. Dorothy Edith \"Dolly\"\n",
      "868                 van Melkebeke, Mr. Philemon\n",
      "878                          Laleff, Mr. Kristo\n",
      "888    Johnston, Miss. Catherine Helen \"Carrie\"\n",
      "Name: Name, Length: 891, dtype: object\n"
     ]
    }
   ],
   "source": [
    "\n",
    "sorted_by_age = merged.sort_values(by='Age', ascending=False)\n",
    "\n",
    "\n",
    "name_of_oldest = sorted_by_age['Name']\n",
    "\n",
    "print(name_of_oldest)\n"
   ]
  },
  {
   "cell_type": "markdown",
   "id": "99fb1614-5de3-4378-9917-b689799cf7de",
   "metadata": {},
   "source": [
    "Plot the data on a scatter plot that shows the Age vs. Ticket Prices"
   ]
  },
  {
   "cell_type": "code",
   "execution_count": 61,
   "id": "688d4c0b-e8ea-47ed-b51d-688f5721c316",
   "metadata": {},
   "outputs": [
    {
     "data": {
      "text/plain": [
       "Text(0, 0.5, 'Ticket Prices')"
      ]
     },
     "execution_count": 61,
     "metadata": {},
     "output_type": "execute_result"
    },
    {
     "data": {
      "image/png": "[encoded data removed]",
      "text/plain": [
       "<Figure size 640x480 with 1 Axes>"
      ]
     },
     "metadata": {},
     "output_type": "display_data"
    }
   ],
   "source": [
    "import matplotlib.pyplot as plt\n",
    "\n",
    "plt.scatter(merged.Age , merged.Fare)\n",
    "plt.xlabel('Age')\n",
    "plt.ylabel('Ticket Prices')"
   ]
  },
  {
   "cell_type": "markdown",
   "id": "960dfbae-4dff-40c2-9202-59e89e30bd05",
   "metadata": {},
   "source": [
    "Plot only the data that shows female passengers aged 40 to 50 and who paid more than or equal to 40."
   ]
  },
  {
   "cell_type": "code",
   "execution_count": 74,
   "id": "d1f4cd2e-7e2a-4fd3-a2bd-7c48e15476c0",
   "metadata": {},
   "outputs": [
    {
     "name": "stdout",
     "output_type": "stream",
     "text": [
      "     PassengerId  Survived  Pclass  \\\n",
      "161          162         1       2   \n",
      "177          178         0       1   \n",
      "194          195         1       1   \n",
      "254          255         0       3   \n",
      "337          338         1       1   \n",
      "\n",
      "                                                  Name     Sex   Age  \\\n",
      "161  Watt, Mrs. James (Elizabeth \"Bessie\" Inglis Mi...  female  40.0   \n",
      "177                         Isham, Miss. Ann Elizabeth  female  50.0   \n",
      "194          Brown, Mrs. James Joseph (Margaret Tobin)  female  44.0   \n",
      "254           Rosblom, Mrs. Viktor (Helena Wilhelmina)  female  41.0   \n",
      "337                    Burns, Miss. Elizabeth Margaret  female  41.0   \n",
      "\n",
      "     TicketType  Fare  \n",
      "161           2    56  \n",
      "177           2    56  \n",
      "194           3    77  \n",
      "254           7    87  \n",
      "337           2    56  \n"
     ]
    },
    {
     "data": {
      "text/plain": [
       "<Figure size 1000x600 with 0 Axes>"
      ]
     },
     "execution_count": 74,
     "metadata": {},
     "output_type": "execute_result"
    },
    {
     "data": {
      "text/plain": [
       "<Figure size 1000x600 with 0 Axes>"
      ]
     },
     "metadata": {},
     "output_type": "display_data"
    }
   ],
   "source": [
    "filter = merged[(merged['Sex'] == 'female') & (merged['Age'].between(40, 50)) & (merged['Fare'] >= 40)]\n",
    "print(filter.head())\n",
    "plt.bar"
   ]
  },
  {
   "cell_type": "code",
   "execution_count": 79,
   "id": "7fcb2510-78bd-4e24-a5a0-eae68cbf18c1",
   "metadata": {},
   "outputs": [
    {
     "name": "stdout",
     "output_type": "stream",
     "text": [
      "     PassengerId  Survived  Pclass  \\\n",
      "161          162         1       2   \n",
      "177          178         0       1   \n",
      "194          195         1       1   \n",
      "\n",
      "                                                  Name     Sex   Age  \\\n",
      "161  Watt, Mrs. James (Elizabeth \"Bessie\" Inglis Mi...  female  40.0   \n",
      "177                         Isham, Miss. Ann Elizabeth  female  50.0   \n",
      "194          Brown, Mrs. James Joseph (Margaret Tobin)  female  44.0   \n",
      "\n",
      "     TicketType  Fare  \n",
      "161           2    56  \n",
      "177           2    56  \n",
      "194           3    77  \n"
     ]
    }
   ],
   "source": [
    "filtered_df = merged.query(\"Sex == 'female' and Age >= 40 and Age <= 50 and Fare >= 40\")\n",
    "print(filtered_df.head(3))"
   ]
  },
  {
   "cell_type": "markdown",
   "id": "a428f333-7abf-4754-a58a-01ce6f17d3d2",
   "metadata": {},
   "source": [
    " # Part 2: Missing values"
   ]
  },
  {
   "cell_type": "markdown",
   "id": "3fa412a4-8745-4c83-83b9-5b03cf70ca6f",
   "metadata": {},
   "source": [
    "A DataFrame is created with random values and custom indexing.\n",
    "Two new columns are added ('four' and 'five').\n",
    "The DataFrame is reindexed, introducing missing values (NaN) for new rows ('b', 'd', 'g').\n",
    "Missing values in the 'one' column of the reindexed DataFrame are checked using pd.isnull().\n"
   ]
  },
  {
   "cell_type": "code",
   "execution_count": 81,
   "id": "fbd48b53-5077-4d75-a334-6bddfe36da4c",
   "metadata": {},
   "outputs": [
    {
     "data": {
      "text/plain": [
       "a    False\n",
       "b     True\n",
       "c    False\n",
       "d     True\n",
       "e    False\n",
       "f    False\n",
       "g     True\n",
       "h    False\n",
       "Name: one, dtype: bool"
      ]
     },
     "execution_count": 81,
     "metadata": {},
     "output_type": "execute_result"
    }
   ],
   "source": [
    "import numpy as np\n",
    "import pandas as pd\n",
    "\n",
    "df = pd.DataFrame(np.random.randn(5, 3), index=['a', 'c', 'e', 'f', 'h'],columns=['one', 'two', 'three'])\n",
    "df['four'] = 'bar'\n",
    "df['five'] = df['one'] > 0\n",
    "# Here we are generating some missing values artificially \n",
    "df2 = df.reindex(['a', 'b', 'c', 'd', 'e', 'f', 'g', 'h'])\n",
    "# use this function to get an overview of the nul values along a column\n",
    "pd.isnull(df2['one'])"
   ]
  },
  {
   "cell_type": "markdown",
   "id": "b7e35023-a571-41a0-afa4-f159774b5582",
   "metadata": {},
   "source": [
    "## DIY Exercises - 2 : Missing values"
   ]
  },
  {
   "cell_type": "markdown",
   "id": "9d62f32c-6b26-420f-93e2-d82f7f3b2c1b",
   "metadata": {},
   "source": [
    "### Load the slightly modified Titanic survival data (right-click and \"save link as\") into a pandas data frame."
   ]
  },
  {
   "cell_type": "code",
   "execution_count": 35,
   "id": "7911ac61-f91a-4046-bad9-de972617059d",
   "metadata": {},
   "outputs": [
    {
     "data": {
      "text/html": [
       "<div>\n",
       "<style scoped>\n",
       "    .dataframe tbody tr th:only-of-type {\n",
       "        vertical-align: middle;\n",
       "    }\n",
       "\n",
       "    .dataframe tbody tr th {\n",
       "        vertical-align: top;\n",
       "    }\n",
       "\n",
       "    .dataframe thead th {\n",
       "        text-align: right;\n",
       "    }\n",
       "</style>\n",
       "<table border=\"1\" class=\"dataframe\">\n",
       "  <thead>\n",
       "    <tr style=\"text-align: right;\">\n",
       "      <th></th>\n",
       "      <th>PassengerId</th>\n",
       "      <th>Survived</th>\n",
       "      <th>Pclass</th>\n",
       "      <th>Name</th>\n",
       "      <th>Sex</th>\n",
       "      <th>Age</th>\n",
       "      <th>SibSp</th>\n",
       "      <th>Parch</th>\n",
       "      <th>Ticket</th>\n",
       "      <th>Fare</th>\n",
       "      <th>Cabin</th>\n",
       "      <th>Embarked</th>\n",
       "    </tr>\n",
       "  </thead>\n",
       "  <tbody>\n",
       "    <tr>\n",
       "      <th>0</th>\n",
       "      <td>1</td>\n",
       "      <td>0</td>\n",
       "      <td>3</td>\n",
       "      <td>Braund, Mr. Owen Harris</td>\n",
       "      <td>male</td>\n",
       "      <td>22.0</td>\n",
       "      <td>1</td>\n",
       "      <td>0</td>\n",
       "      <td>A/5 21171</td>\n",
       "      <td>7.2500</td>\n",
       "      <td>NaN</td>\n",
       "      <td>S</td>\n",
       "    </tr>\n",
       "    <tr>\n",
       "      <th>1</th>\n",
       "      <td>2</td>\n",
       "      <td>1</td>\n",
       "      <td>1</td>\n",
       "      <td>Cumings, Mrs. John Bradley (Florence Briggs Th...</td>\n",
       "      <td>female</td>\n",
       "      <td>38.0</td>\n",
       "      <td>1</td>\n",
       "      <td>0</td>\n",
       "      <td>PC 17599</td>\n",
       "      <td>71.2833</td>\n",
       "      <td>C85</td>\n",
       "      <td>C</td>\n",
       "    </tr>\n",
       "    <tr>\n",
       "      <th>2</th>\n",
       "      <td>3</td>\n",
       "      <td>1</td>\n",
       "      <td>3</td>\n",
       "      <td>Heikkinen, Miss. Laina</td>\n",
       "      <td>female</td>\n",
       "      <td>26.0</td>\n",
       "      <td>0</td>\n",
       "      <td>0</td>\n",
       "      <td>STON/O2. 3101282</td>\n",
       "      <td>7.9250</td>\n",
       "      <td>NaN</td>\n",
       "      <td>S</td>\n",
       "    </tr>\n",
       "    <tr>\n",
       "      <th>3</th>\n",
       "      <td>4</td>\n",
       "      <td>1</td>\n",
       "      <td>1</td>\n",
       "      <td>Futrelle, Mrs. Jacques Heath (Lily May Peel)</td>\n",
       "      <td>female</td>\n",
       "      <td>35.0</td>\n",
       "      <td>1</td>\n",
       "      <td>0</td>\n",
       "      <td>113803</td>\n",
       "      <td>53.1000</td>\n",
       "      <td>C123</td>\n",
       "      <td>S</td>\n",
       "    </tr>\n",
       "    <tr>\n",
       "      <th>4</th>\n",
       "      <td>5</td>\n",
       "      <td>0</td>\n",
       "      <td>3</td>\n",
       "      <td>Allen, Mr. William Henry</td>\n",
       "      <td>male</td>\n",
       "      <td>35.0</td>\n",
       "      <td>0</td>\n",
       "      <td>0</td>\n",
       "      <td>373450</td>\n",
       "      <td>8.0500</td>\n",
       "      <td>NaN</td>\n",
       "      <td>S</td>\n",
       "    </tr>\n",
       "  </tbody>\n",
       "</table>\n",
       "</div>"
      ],
      "text/plain": [
       "   PassengerId  Survived  Pclass  \\\n",
       "0            1         0       3   \n",
       "1            2         1       1   \n",
       "2            3         1       3   \n",
       "3            4         1       1   \n",
       "4            5         0       3   \n",
       "\n",
       "                                                Name     Sex   Age  SibSp  \\\n",
       "0                            Braund, Mr. Owen Harris    male  22.0      1   \n",
       "1  Cumings, Mrs. John Bradley (Florence Briggs Th...  female  38.0      1   \n",
       "2                             Heikkinen, Miss. Laina  female  26.0      0   \n",
       "3       Futrelle, Mrs. Jacques Heath (Lily May Peel)  female  35.0      1   \n",
       "4                           Allen, Mr. William Henry    male  35.0      0   \n",
       "\n",
       "   Parch            Ticket     Fare Cabin Embarked  \n",
       "0      0         A/5 21171   7.2500   NaN        S  \n",
       "1      0          PC 17599  71.2833   C85        C  \n",
       "2      0  STON/O2. 3101282   7.9250   NaN        S  \n",
       "3      0            113803  53.1000  C123        S  \n",
       "4      0            373450   8.0500   NaN        S  "
      ]
     },
     "execution_count": 35,
     "metadata": {},
     "output_type": "execute_result"
    }
   ],
   "source": [
    "import pandas as pd\n",
    "file = pd.read_csv('/Users/aqsa/Desktop/titanicSurvival_m.csv')\n",
    "file.head()"
   ]
  },
  {
   "cell_type": "markdown",
   "id": "11836907-3486-4183-b698-ef6781f1f5fe",
   "metadata": {},
   "source": [
    "### Find the counts of missing values in each column"
   ]
  },
  {
   "cell_type": "code",
   "execution_count": 36,
   "id": "9ca38b29-3ad6-4d5a-af7f-78e89e493004",
   "metadata": {},
   "outputs": [
    {
     "data": {
      "text/plain": [
       "PassengerId      0\n",
       "Survived         0\n",
       "Pclass           0\n",
       "Name             0\n",
       "Sex              0\n",
       "Age            177\n",
       "SibSp            0\n",
       "Parch            0\n",
       "Ticket           0\n",
       "Fare            46\n",
       "Cabin          687\n",
       "Embarked         2\n",
       "dtype: int64"
      ]
     },
     "execution_count": 36,
     "metadata": {},
     "output_type": "execute_result"
    }
   ],
   "source": [
    "file.isnull().sum()"
   ]
  },
  {
   "cell_type": "markdown",
   "id": "eefa5e90-bc53-4195-bd95-9b90da62f857",
   "metadata": {},
   "source": [
    "### Compute the mean and other descriptive statistics and note these down, you can use this function"
   ]
  },
  {
   "cell_type": "code",
   "execution_count": 37,
   "id": "6a696206-c572-4565-89ac-261187170131",
   "metadata": {},
   "outputs": [
    {
     "data": {
      "text/html": [
       "<div>\n",
       "<style scoped>\n",
       "    .dataframe tbody tr th:only-of-type {\n",
       "        vertical-align: middle;\n",
       "    }\n",
       "\n",
       "    .dataframe tbody tr th {\n",
       "        vertical-align: top;\n",
       "    }\n",
       "\n",
       "    .dataframe thead th {\n",
       "        text-align: right;\n",
       "    }\n",
       "</style>\n",
       "<table border=\"1\" class=\"dataframe\">\n",
       "  <thead>\n",
       "    <tr style=\"text-align: right;\">\n",
       "      <th></th>\n",
       "      <th>PassengerId</th>\n",
       "      <th>Survived</th>\n",
       "      <th>Pclass</th>\n",
       "      <th>Age</th>\n",
       "      <th>SibSp</th>\n",
       "      <th>Parch</th>\n",
       "      <th>Fare</th>\n",
       "    </tr>\n",
       "  </thead>\n",
       "  <tbody>\n",
       "    <tr>\n",
       "      <th>count</th>\n",
       "      <td>891.000000</td>\n",
       "      <td>891.000000</td>\n",
       "      <td>891.000000</td>\n",
       "      <td>714.000000</td>\n",
       "      <td>891.000000</td>\n",
       "      <td>891.000000</td>\n",
       "      <td>845.000000</td>\n",
       "    </tr>\n",
       "    <tr>\n",
       "      <th>mean</th>\n",
       "      <td>446.000000</td>\n",
       "      <td>0.383838</td>\n",
       "      <td>2.308642</td>\n",
       "      <td>29.699118</td>\n",
       "      <td>0.523008</td>\n",
       "      <td>0.381594</td>\n",
       "      <td>32.304319</td>\n",
       "    </tr>\n",
       "    <tr>\n",
       "      <th>std</th>\n",
       "      <td>257.353842</td>\n",
       "      <td>0.486592</td>\n",
       "      <td>0.836071</td>\n",
       "      <td>14.526497</td>\n",
       "      <td>1.102743</td>\n",
       "      <td>0.806057</td>\n",
       "      <td>49.792612</td>\n",
       "    </tr>\n",
       "    <tr>\n",
       "      <th>min</th>\n",
       "      <td>1.000000</td>\n",
       "      <td>0.000000</td>\n",
       "      <td>1.000000</td>\n",
       "      <td>0.420000</td>\n",
       "      <td>0.000000</td>\n",
       "      <td>0.000000</td>\n",
       "      <td>0.000000</td>\n",
       "    </tr>\n",
       "    <tr>\n",
       "      <th>25%</th>\n",
       "      <td>223.500000</td>\n",
       "      <td>0.000000</td>\n",
       "      <td>2.000000</td>\n",
       "      <td>20.125000</td>\n",
       "      <td>0.000000</td>\n",
       "      <td>0.000000</td>\n",
       "      <td>7.895800</td>\n",
       "    </tr>\n",
       "    <tr>\n",
       "      <th>50%</th>\n",
       "      <td>446.000000</td>\n",
       "      <td>0.000000</td>\n",
       "      <td>3.000000</td>\n",
       "      <td>28.000000</td>\n",
       "      <td>0.000000</td>\n",
       "      <td>0.000000</td>\n",
       "      <td>14.454200</td>\n",
       "    </tr>\n",
       "    <tr>\n",
       "      <th>75%</th>\n",
       "      <td>668.500000</td>\n",
       "      <td>1.000000</td>\n",
       "      <td>3.000000</td>\n",
       "      <td>38.000000</td>\n",
       "      <td>1.000000</td>\n",
       "      <td>0.000000</td>\n",
       "      <td>31.275000</td>\n",
       "    </tr>\n",
       "    <tr>\n",
       "      <th>max</th>\n",
       "      <td>891.000000</td>\n",
       "      <td>1.000000</td>\n",
       "      <td>3.000000</td>\n",
       "      <td>80.000000</td>\n",
       "      <td>8.000000</td>\n",
       "      <td>6.000000</td>\n",
       "      <td>512.329200</td>\n",
       "    </tr>\n",
       "  </tbody>\n",
       "</table>\n",
       "</div>"
      ],
      "text/plain": [
       "       PassengerId    Survived      Pclass         Age       SibSp  \\\n",
       "count   891.000000  891.000000  891.000000  714.000000  891.000000   \n",
       "mean    446.000000    0.383838    2.308642   29.699118    0.523008   \n",
       "std     257.353842    0.486592    0.836071   14.526497    1.102743   \n",
       "min       1.000000    0.000000    1.000000    0.420000    0.000000   \n",
       "25%     223.500000    0.000000    2.000000   20.125000    0.000000   \n",
       "50%     446.000000    0.000000    3.000000   28.000000    0.000000   \n",
       "75%     668.500000    1.000000    3.000000   38.000000    1.000000   \n",
       "max     891.000000    1.000000    3.000000   80.000000    8.000000   \n",
       "\n",
       "            Parch        Fare  \n",
       "count  891.000000  845.000000  \n",
       "mean     0.381594   32.304319  \n",
       "std      0.806057   49.792612  \n",
       "min      0.000000    0.000000  \n",
       "25%      0.000000    7.895800  \n",
       "50%      0.000000   14.454200  \n",
       "75%      0.000000   31.275000  \n",
       "max      6.000000  512.329200  "
      ]
     },
     "execution_count": 37,
     "metadata": {},
     "output_type": "execute_result"
    }
   ],
   "source": [
    "file.describe()"
   ]
  },
  {
   "cell_type": "markdown",
   "id": "697ae267-696a-4ef2-a5bf-506d807c6129",
   "metadata": {},
   "source": [
    "### Replace the missing values in \"Age\" and \"Fare\" columns with 0 values, and visualise in a scatterplot"
   ]
  },
  {
   "cell_type": "code",
   "execution_count": 24,
   "id": "2311c2ea-1b4c-4a27-939e-7304bba2f053",
   "metadata": {},
   "outputs": [
    {
     "name": "stderr",
     "output_type": "stream",
     "text": [
      "/var/folders/f3/9rjb9s3d5095pp6w66p1r_kc0000gn/T/ipykernel_37040/172117352.py:2: FutureWarning: A value is trying to be set on a copy of a DataFrame or Series through chained assignment using an inplace method.\n",
      "The behavior will change in pandas 3.0. This inplace method will never work because the intermediate object on which we are setting values always behaves as a copy.\n",
      "\n",
      "For example, when doing 'df[col].method(value, inplace=True)', try using 'df.method({col: value}, inplace=True)' or df[col] = df[col].method(value) instead, to perform the operation inplace on the original object.\n",
      "\n",
      "\n",
      "  file.Fare.fillna(0, inplace=True)\n"
     ]
    },
    {
     "data": {
      "text/plain": [
       "<matplotlib.collections.PathCollection at 0x169bfcaa0>"
      ]
     },
     "execution_count": 24,
     "metadata": {},
     "output_type": "execute_result"
    },
    {
     "data": {
      "image/png": "[encoded data removed]",
      "text/plain": [
       "<Figure size 640x480 with 1 Axes>"
      ]
     },
     "metadata": {},
     "output_type": "display_data"
    }
   ],
   "source": [
    "file.Age.fillna(0, inplace=True)\n",
    "file.Fare.fillna(0, inplace=True)\n",
    "file.isnull().sum()\n",
    "\n",
    "import matplotlib.pyplot as plt\n",
    "\n",
    "plt.scatter(file.Age, file.Fare)"
   ]
  },
  {
   "cell_type": "markdown",
   "id": "920feb89-f515-4340-80b2-060322b9616e",
   "metadata": {},
   "source": [
    "### Replace the missing values in \"Age\" and \"Fare\" columns with the mean of each column, and visualise in a scatterplot"
   ]
  },
  {
   "cell_type": "code",
   "execution_count": 38,
   "id": "3016adee-eb56-4abb-bbea-28828d2740a6",
   "metadata": {},
   "outputs": [
    {
     "name": "stderr",
     "output_type": "stream",
     "text": [
      "/var/folders/f3/9rjb9s3d5095pp6w66p1r_kc0000gn/T/ipykernel_37040/3996712878.py:3: FutureWarning: A value is trying to be set on a copy of a DataFrame or Series through chained assignment using an inplace method.\n",
      "The behavior will change in pandas 3.0. This inplace method will never work because the intermediate object on which we are setting values always behaves as a copy.\n",
      "\n",
      "For example, when doing 'df[col].method(value, inplace=True)', try using 'df.method({col: value}, inplace=True)' or df[col] = df[col].method(value) instead, to perform the operation inplace on the original object.\n",
      "\n",
      "\n",
      "  file.Age.fillna(file.Age.mean(), inplace=True)\n",
      "/var/folders/f3/9rjb9s3d5095pp6w66p1r_kc0000gn/T/ipykernel_37040/3996712878.py:4: FutureWarning: A value is trying to be set on a copy of a DataFrame or Series through chained assignment using an inplace method.\n",
      "The behavior will change in pandas 3.0. This inplace method will never work because the intermediate object on which we are setting values always behaves as a copy.\n",
      "\n",
      "For example, when doing 'df[col].method(value, inplace=True)', try using 'df.method({col: value}, inplace=True)' or df[col] = df[col].method(value) instead, to perform the operation inplace on the original object.\n",
      "\n",
      "\n",
      "  file.Fare.fillna(file.Fare.mean(), inplace=True)\n"
     ]
    },
    {
     "data": {
      "text/plain": [
       "<matplotlib.collections.PathCollection at 0x169edbf50>"
      ]
     },
     "execution_count": 38,
     "metadata": {},
     "output_type": "execute_result"
    },
    {
     "data": {
      "image/png": "[encoded data removed]",
      "text/plain": [
       "<Figure size 640x480 with 1 Axes>"
      ]
     },
     "metadata": {},
     "output_type": "display_data"
    }
   ],
   "source": [
    "file.Age.mean()\n",
    "file.Fare.mean()\n",
    "file.Age.fillna(file.Age.mean(), inplace=True)\n",
    "file.Fare.fillna(file.Fare.mean(), inplace=True)\n",
    "\n",
    "\n",
    "import matplotlib.pyplot as plt\n",
    "\n",
    "plt.scatter(file.Age, file.Fare)"
   ]
  },
  {
   "cell_type": "markdown",
   "id": "d50a12ed-6fef-4e0e-b249-7ffa571849b7",
   "metadata": {},
   "source": [
    "### Reflect on the differences you see in these plots."
   ]
  },
  {
   "cell_type": "markdown",
   "id": "34d65fe0-b43c-48db-87a0-5f161a82cccf",
   "metadata": {},
   "source": [
    "You'll likely notice that many data points are clustered along the axes at (0, Fare) or (Age, 0), especially around very low values of \"Age\" and \"Fare\". This may distort the overall trend, as replacing missing data with 0s introduces non-representative data points.\n",
    "When missing values are replaced by the mean, the scatterplot should look more consistent. The points will likely distribute more evenly, as missing values are filled with the central tendency (mean). This provides a more realistic view of the data compared to filling with 0.\n"
   ]
  },
  {
   "cell_type": "markdown",
   "id": "0f62fbec-6363-4ccd-9894-718f34129688",
   "metadata": {},
   "source": [
    "# DIY Exercises - 3 : Data Transformations"
   ]
  },
  {
   "cell_type": "markdown",
   "id": "f89ac459-6b47-4041-89d1-98e7450cf3e2",
   "metadata": {},
   "source": [
    "## load the file from last week. You may need to replace missing values before you start."
   ]
  },
  {
   "cell_type": "code",
   "execution_count": 55,
   "id": "566db883-f048-496b-a3d0-e2ca2af9777b",
   "metadata": {},
   "outputs": [
    {
     "name": "stdout",
     "output_type": "stream",
     "text": [
      "country                     0\n",
      "iso2                        0\n",
      "iso3                        0\n",
      "iso_numeric                 0\n",
      "g_whoregion                 0\n",
      "year                        0\n",
      "e_pop_num                   0\n",
      "e_prev_100k                 0\n",
      "e_prev_100k_lo              0\n",
      "e_prev_100k_hi              0\n",
      "e_prev_num                  0\n",
      "e_prev_num_lo               0\n",
      "e_prev_num_hi               0\n",
      "e_mort_exc_tbhiv_100k       0\n",
      "e_mort_exc_tbhiv_100k_lo    0\n",
      "e_mort_exc_tbhiv_100k_hi    0\n",
      "e_mort_exc_tbhiv_num        0\n",
      "e_mort_exc_tbhiv_num_lo     0\n",
      "e_mort_exc_tbhiv_num_hi     0\n",
      "source_mort                 0\n",
      "e_inc_100k                  0\n",
      "e_inc_100k_lo               0\n",
      "e_inc_100k_hi               0\n",
      "e_inc_num                   0\n",
      "e_inc_num_lo                0\n",
      "e_inc_num_hi                0\n",
      "e_tbhiv_prct                0\n",
      "e_tbhiv_prct_lo             0\n",
      "e_tbhiv_prct_hi             0\n",
      "e_inc_tbhiv_100k            0\n",
      "e_inc_tbhiv_100k_lo         0\n",
      "e_inc_tbhiv_100k_hi         0\n",
      "e_inc_tbhiv_num             0\n",
      "e_inc_tbhiv_num_lo          0\n",
      "e_inc_tbhiv_num_hi          0\n",
      "source_tbhiv                0\n",
      "c_cdr                       0\n",
      "c_cdr_lo                    0\n",
      "c_cdr_hi                    0\n",
      "dtype: int64\n"
     ]
    }
   ],
   "source": [
    "import csv     # imports the csv module\n",
    "import sys  \n",
    "f = open('/Users/aqsa/Desktop/TB_burden_countries_2014-09-29.csv')\n",
    "\n",
    "df = pd.read_csv(f)\n",
    "\n",
    "df.head()\n",
    "\n",
    "#print(df.isna().sum())\n",
    "\n",
    "df.fillna(0,inplace=True)\n",
    "\n",
    "print(df.isna().sum())"
   ]
  },
  {
   "cell_type": "markdown",
   "id": "6d92f7cf-7666-4938-ada9-7a6466852185",
   "metadata": {},
   "source": [
    "## Choose a number of columns with different shapes, for instance, \"e_prev_100k_hi\" is right skewed and visualise on an histogram"
   ]
  },
  {
   "cell_type": "code",
   "execution_count": 58,
   "id": "eaf8f4cc-8412-47fb-9d3f-0432de0c734d",
   "metadata": {},
   "outputs": [
    {
     "data": {
      "image/png": "[encoded data removed]",
      "text/plain": [
       "<Figure size 640x480 with 1 Axes>"
      ]
     },
     "metadata": {},
     "output_type": "display_data"
    }
   ],
   "source": [
    "#df.head(50) used this to see what they mean by right skewed\n",
    "import matplotlib.pyplot as plt\n",
    "\n",
    "plt.hist(df.e_prev_100k_hi)\n",
    "\n",
    "plt.title('Histogram of e_prev_100k_hi', fontsize=14)\n",
    "plt.xlabel('e_prev_100k_hi')\n",
    "plt.ylabel('Frequency')\n",
    "plt.show()"
   ]
  },
  {
   "cell_type": "markdown",
   "id": "59c36e87-b886-4e0d-82e9-178680b4edc1",
   "metadata": {},
   "source": [
    "## Apply a log transformation on the data. Numpy has a log function. and visualise. Observe the changes"
   ]
  },
  {
   "cell_type": "code",
   "execution_count": 62,
   "id": "ca723fd0-2144-4255-9077-ff314cf919ea",
   "metadata": {},
   "outputs": [
    {
     "data": {
      "image/png": "[encoded data removed]",
      "text/plain": [
       "<Figure size 640x480 with 1 Axes>"
      ]
     },
     "metadata": {},
     "output_type": "display_data"
    }
   ],
   "source": [
    "import numpy as np\n",
    "\n",
    "df['e_prev_100k_hi_log'] = np.log1p(df['e_prev_100k_hi'])\n",
    "plt.hist(df['e_prev_100k_hi_log'], bins=30, alpha=0.7, color='green')\n",
    "#plt.hist(df['e_prev_100k_hi_log'])\n",
    "plt.title('Histogram of Log-Transformed e_prev_100k_hi', fontsize=14)\n",
    "plt.xlabel('Log of e_prev_100k_hi')\n",
    "plt.ylabel('Frequency')\n",
    "plt.show()"
   ]
  },
  {
   "cell_type": "markdown",
   "id": "4d4c464d-3d28-4b95-9ef3-95b3ff60cdfa",
   "metadata": {},
   "source": [
    "## Choose the numerical columns and map all the columns to [0,1] interval"
   ]
  },
  {
   "cell_type": "code",
   "execution_count": 63,
   "id": "2cc1d9e6-a78b-4e00-b288-d3be5412d997",
   "metadata": {},
   "outputs": [
    {
     "name": "stdout",
     "output_type": "stream",
     "text": [
      "   iso_numeric      year  e_pop_num  e_prev_100k  e_prev_100k_lo  \\\n",
      "0          0.0  0.000000   0.008518     0.175806        0.085106   \n",
      "1          0.0  0.045455   0.009158     0.193011        0.130699   \n",
      "2          0.0  0.090909   0.010029     0.208065        0.128419   \n",
      "3          0.0  0.136364   0.011019     0.221505        0.141337   \n",
      "4          0.0  0.181818   0.011970     0.231720        0.151216   \n",
      "\n",
      "   e_prev_100k_hi  e_prev_num  e_prev_num_lo  e_prev_num_hi  \\\n",
      "0        0.183731    0.008261        0.00325       0.014808   \n",
      "1        0.171950    0.009783        0.00550       0.014808   \n",
      "2        0.194390    0.011522        0.00575       0.018462   \n",
      "3        0.203086    0.013478        0.00700       0.021154   \n",
      "4        0.210659    0.015435        0.00825       0.023077   \n",
      "\n",
      "   e_mort_exc_tbhiv_100k  ...  e_inc_tbhiv_100k  e_inc_tbhiv_100k_lo  \\\n",
      "0               0.140271  ...          0.000304             0.000241   \n",
      "1               0.158371  ...          0.000313             0.000209   \n",
      "2               0.176471  ...          0.000321             0.000209   \n",
      "3               0.190045  ...          0.000330             0.000220   \n",
      "4               0.208145  ...          0.000348             0.000231   \n",
      "\n",
      "   e_inc_tbhiv_100k_hi  e_inc_tbhiv_num  e_inc_tbhiv_num_lo  \\\n",
      "0             0.000367         0.000124            0.000093   \n",
      "1             0.000409         0.000136            0.000089   \n",
      "2             0.000437         0.000155            0.000096   \n",
      "3             0.000444         0.000176            0.000111   \n",
      "4             0.000451         0.000197            0.000130   \n",
      "\n",
      "   e_inc_tbhiv_num_hi     c_cdr  c_cdr_lo  c_cdr_hi  e_prev_100k_hi_log  \n",
      "0            0.000154  0.058824  0.054167     0.020            0.793007  \n",
      "1            0.000187  0.285294  0.320833     0.075            0.784917  \n",
      "2            0.000221  0.000000  0.000000     0.000            0.799891  \n",
      "3            0.000244  0.000000  0.000000     0.000            0.805234  \n",
      "4            0.000256  0.000000  0.000000     0.000            0.809705  \n",
      "\n",
      "[5 rows x 34 columns]\n"
     ]
    }
   ],
   "source": [
    "# Select numerical columns\n",
    "numerical_cols = df.select_dtypes(include=['float64', 'int64']).columns\n",
    "\n",
    "# Min-Max scaling\n",
    "df_normalized = df[numerical_cols].copy()\n",
    "df_normalized = (df_normalized - df_normalized.min()) / (df_normalized.max() - df_normalized.min())\n",
    "\n",
    "# Display the first few rows of normalized data\n",
    "print(df_normalized.head())\n"
   ]
  },
  {
   "cell_type": "markdown",
   "id": "51160a4e-4dee-4ec5-a153-da1e06a5e0f6",
   "metadata": {},
   "source": [
    "## Now you can compare the means of each column."
   ]
  },
  {
   "cell_type": "code",
   "execution_count": 64,
   "id": "96ac00c7-5d88-40ee-9ee6-d19c0195fb06",
   "metadata": {},
   "outputs": [
    {
     "name": "stdout",
     "output_type": "stream",
     "text": [
      "iso_numeric                 0.482570\n",
      "year                        0.501919\n",
      "e_pop_num                   0.021053\n",
      "e_prev_100k                 0.111413\n",
      "e_prev_100k_lo              0.071028\n",
      "e_prev_100k_hi              0.105831\n",
      "e_prev_num                  0.014998\n",
      "e_prev_num_lo               0.010891\n",
      "e_prev_num_hi               0.020427\n",
      "e_mort_exc_tbhiv_100k       0.073494\n",
      "e_mort_exc_tbhiv_100k_lo    0.080705\n",
      "e_mort_exc_tbhiv_100k_hi    0.000528\n",
      "e_mort_exc_tbhiv_num        0.013919\n",
      "e_mort_exc_tbhiv_num_lo     0.010981\n",
      "e_mort_exc_tbhiv_num_hi     0.016950\n",
      "e_inc_100k                  0.074040\n",
      "e_inc_100k_lo               0.073854\n",
      "e_inc_100k_hi               0.075205\n",
      "e_inc_num                   0.017075\n",
      "e_inc_num_lo                0.015842\n",
      "e_inc_num_hi                0.019391\n",
      "e_tbhiv_prct                0.083755\n",
      "e_tbhiv_prct_lo             0.091980\n",
      "e_tbhiv_prct_hi             0.092496\n",
      "e_inc_tbhiv_100k            0.024821\n",
      "e_inc_tbhiv_100k_lo         0.025100\n",
      "e_inc_tbhiv_100k_hi         0.024846\n",
      "e_inc_tbhiv_num             0.013138\n",
      "e_inc_tbhiv_num_lo          0.012529\n",
      "e_inc_tbhiv_num_hi          0.014207\n",
      "c_cdr                       0.181429\n",
      "c_cdr_lo                    0.219129\n",
      "c_cdr_hi                    0.047366\n",
      "e_prev_100k_hi_log          0.614737\n",
      "dtype: float64\n"
     ]
    }
   ],
   "source": [
    "# Calculate and display means of the normalized data\n",
    "means = df_normalized.mean()\n",
    "print(means)\n"
   ]
  },
  {
   "cell_type": "markdown",
   "id": "6da701c5-d9a9-4b6f-a7b7-601f32c807a5",
   "metadata": {},
   "source": [
    "Histogram of e_prev_100k_hi: Initially, you should observe a right-skewed distribution.\n",
    "Log-transformed Histogram: After applying the log transformation, the distribution should appear more symmetrical, reducing the right skewness.\n",
    "Normalized Data: After normalizing, all numerical columns will be scaled to the \n",
    "[0,1]\n",
    "[0,1] interval. The means will also be transformed accordingly and should lie between 0 and 1."
   ]
  },
  {
   "cell_type": "code",
   "execution_count": null,
   "id": "7886b69d-38a7-4d24-8864-2376d2aaae4a",
   "metadata": {},
   "outputs": [],
   "source": []
  }
 ],
 "metadata": {
  "kernelspec": {
   "display_name": "Python 3 (ipykernel)",
   "language": "python",
   "name": "python3"
  },
  "language_info": {
   "codemirror_mode": {
    "name": "ipython",
    "version": 3
   },
   "file_extension": ".py",
   "mimetype": "text/x-python",
   "name": "python",
   "nbconvert_exporter": "python",
   "pygments_lexer": "ipython3",
   "version": "3.12.4"
  }
 },
 "nbformat": 4,
 "nbformat_minor": 5
}
